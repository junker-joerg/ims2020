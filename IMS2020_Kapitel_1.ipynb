{
 "cells": [
  {
   "cell_type": "code",
   "execution_count": 1,
   "metadata": {},
   "outputs": [],
   "source": [
    "from __future__ import print_function, division\n",
    "import pandas as pd \n",
    "import numpy as np\n",
    "import matplotlib as mpl\n",
    "import matplotlib.pyplot as plt\n",
    "%matplotlib inline"
   ]
  },
  {
   "cell_type": "markdown",
   "metadata": {
    "toc": true
   },
   "source": [
    "<h1>Table of Contents<span class=\"tocSkip\"></span></h1>\n",
    "<div class=\"toc\"><ul class=\"toc-item\"><li><span><a href=\"#Kapitel-1\" data-toc-modified-id=\"Kapitel-1-1\"><span class=\"toc-item-num\">1&nbsp;&nbsp;</span>Kapitel 1</a></span></li></ul></div>"
   ]
  },
  {
   "cell_type": "code",
   "execution_count": 0,
   "metadata": {},
   "outputs": [],
   "source": [
    "### Kapitel 1"
   ]
  },
  {
   "cell_type": "code",
   "execution_count": 97,
   "metadata": {},
   "outputs": [
    {
     "name": "stdout",
     "output_type": "stream",
     "text": "Kapitel 1\n"
    }
   ],
   "source": [
    "print(\"Kapitel 1\") "
   ]
  },
  {
   "cell_type": "code",
   "execution_count": 98,
   "metadata": {},
   "outputs": [],
   "source": [
    "# Globale Versicherungsdaten \n",
    "# 1 OECD Insurance DB - https://stats.oecd.org/Index.aspx?DatasetCode=INSIND \n",
    "# als CSV"
   ]
  },
  {
   "cell_type": "code",
   "execution_count": 99,
   "metadata": {},
   "outputs": [
    {
     "name": "stdout",
     "output_type": "stream",
     "text": "<class 'pandas.core.frame.DataFrame'>\nRangeIndex: 1543 entries, 0 to 1542\nData columns (total 15 columns):\nCOU                      1543 non-null object\nCountry                  1543 non-null object\nIND                      1543 non-null object\nIndicator                1543 non-null object\nYEA                      1543 non-null int64\nYear                     1543 non-null int64\nUnit Code                1543 non-null object\nUnit                     1543 non-null object\nPowerCode Code           1543 non-null int64\nPowerCode                1543 non-null object\nReference Period Code    0 non-null float64\nReference Period         0 non-null float64\nValue                    1543 non-null float64\nFlag Codes               0 non-null float64\nFlags                    0 non-null float64\ndtypes: float64(5), int64(3), object(7)\nmemory usage: 180.9+ KB\n"
    }
   ],
   "source": [
    "glob_ins_data = pd.read_csv('INSIND_06012020212318611.csv')\n",
    "df = pd.DataFrame(glob_ins_data)\n",
    "glob_ins_data.info()"
   ]
  },
  {
   "cell_type": "markdown",
   "metadata": {},
   "source": [
    "Selektion von Zeilen / Spalten: iloc"
   ]
  },
  {
   "cell_type": "code",
   "execution_count": 100,
   "metadata": {},
   "outputs": [
    {
     "data": {
      "text/html": "<div>\n<style scoped>\n    .dataframe tbody tr th:only-of-type {\n        vertical-align: middle;\n    }\n\n    .dataframe tbody tr th {\n        vertical-align: top;\n    }\n\n    .dataframe thead th {\n        text-align: right;\n    }\n</style>\n<table border=\"1\" class=\"dataframe\">\n  <thead>\n    <tr style=\"text-align: right;\">\n      <th></th>\n      <th>A</th>\n      <th>B</th>\n      <th>C C</th>\n    </tr>\n  </thead>\n  <tbody>\n    <tr>\n      <th>4</th>\n      <td>5</td>\n      <td>2</td>\n      <td>6</td>\n    </tr>\n  </tbody>\n</table>\n</div>",
      "text/plain": "   A  B  C C\n4  5  2    6"
     },
     "execution_count": 100,
     "metadata": {},
     "output_type": "execute_result"
    }
   ],
   "source": [
    "df = pd.DataFrame({'A': range(1, 6),\n",
    "...                    'B': range(10, 0, -2),\n",
    "...                    'C C': range(10, 5, -1)})\n",
    "df.query('A > B')"
   ]
  },
  {
   "cell_type": "code",
   "execution_count": 101,
   "metadata": {},
   "outputs": [],
   "source": [
    "#glob_ins_data.query(glob_ins_data.Country == \"Australia\")\n",
    "#ValueError: expr must be a string to be evaluated, <class 'pandas.core.series.Series'> given ... HIER WEITER\n"
   ]
  },
  {
   "cell_type": "code",
   "execution_count": 102,
   "metadata": {},
   "outputs": [
    {
     "data": {
      "text/html": "<div>\n<style scoped>\n    .dataframe tbody tr th:only-of-type {\n        vertical-align: middle;\n    }\n\n    .dataframe tbody tr th {\n        vertical-align: top;\n    }\n\n    .dataframe thead th {\n        text-align: right;\n    }\n</style>\n<table border=\"1\" class=\"dataframe\">\n  <thead>\n    <tr style=\"text-align: right;\">\n      <th></th>\n      <th>COU</th>\n      <th>Country</th>\n      <th>IND</th>\n      <th>Indicator</th>\n      <th>YEA</th>\n      <th>Year</th>\n      <th>Unit Code</th>\n      <th>Unit</th>\n      <th>PowerCode Code</th>\n      <th>PowerCode</th>\n      <th>Reference Period Code</th>\n      <th>Reference Period</th>\n      <th>Value</th>\n      <th>Flag Codes</th>\n    </tr>\n  </thead>\n  <tbody>\n    <tr>\n      <th>12</th>\n      <td>AUS</td>\n      <td>Australia</td>\n      <td>I_2</td>\n      <td>Total gross premiums &gt; Life</td>\n      <td>2008</td>\n      <td>2008</td>\n      <td>USD</td>\n      <td>US Dollar</td>\n      <td>6</td>\n      <td>Millions</td>\n      <td>NaN</td>\n      <td>NaN</td>\n      <td>39020.07</td>\n      <td>NaN</td>\n    </tr>\n    <tr>\n      <th>13</th>\n      <td>AUS</td>\n      <td>Australia</td>\n      <td>I_2</td>\n      <td>Total gross premiums &gt; Life</td>\n      <td>2009</td>\n      <td>2009</td>\n      <td>USD</td>\n      <td>US Dollar</td>\n      <td>6</td>\n      <td>Millions</td>\n      <td>NaN</td>\n      <td>NaN</td>\n      <td>32296.58</td>\n      <td>NaN</td>\n    </tr>\n    <tr>\n      <th>14</th>\n      <td>AUS</td>\n      <td>Australia</td>\n      <td>I_2</td>\n      <td>Total gross premiums &gt; Life</td>\n      <td>2010</td>\n      <td>2010</td>\n      <td>USD</td>\n      <td>US Dollar</td>\n      <td>6</td>\n      <td>Millions</td>\n      <td>NaN</td>\n      <td>NaN</td>\n      <td>40317.72</td>\n      <td>NaN</td>\n    </tr>\n    <tr>\n      <th>15</th>\n      <td>AUS</td>\n      <td>Australia</td>\n      <td>I_2</td>\n      <td>Total gross premiums &gt; Life</td>\n      <td>2011</td>\n      <td>2011</td>\n      <td>USD</td>\n      <td>US Dollar</td>\n      <td>6</td>\n      <td>Millions</td>\n      <td>NaN</td>\n      <td>NaN</td>\n      <td>47948.66</td>\n      <td>NaN</td>\n    </tr>\n    <tr>\n      <th>16</th>\n      <td>AUS</td>\n      <td>Australia</td>\n      <td>I_2</td>\n      <td>Total gross premiums &gt; Life</td>\n      <td>2012</td>\n      <td>2012</td>\n      <td>USD</td>\n      <td>US Dollar</td>\n      <td>6</td>\n      <td>Millions</td>\n      <td>NaN</td>\n      <td>NaN</td>\n      <td>46068.84</td>\n      <td>NaN</td>\n    </tr>\n    <tr>\n      <th>17</th>\n      <td>AUS</td>\n      <td>Australia</td>\n      <td>I_2</td>\n      <td>Total gross premiums &gt; Life</td>\n      <td>2013</td>\n      <td>2013</td>\n      <td>USD</td>\n      <td>US Dollar</td>\n      <td>6</td>\n      <td>Millions</td>\n      <td>NaN</td>\n      <td>NaN</td>\n      <td>48121.72</td>\n      <td>NaN</td>\n    </tr>\n    <tr>\n      <th>18</th>\n      <td>AUS</td>\n      <td>Australia</td>\n      <td>I_2</td>\n      <td>Total gross premiums &gt; Life</td>\n      <td>2014</td>\n      <td>2014</td>\n      <td>USD</td>\n      <td>US Dollar</td>\n      <td>6</td>\n      <td>Millions</td>\n      <td>NaN</td>\n      <td>NaN</td>\n      <td>59315.42</td>\n      <td>NaN</td>\n    </tr>\n    <tr>\n      <th>19</th>\n      <td>AUS</td>\n      <td>Australia</td>\n      <td>I_2</td>\n      <td>Total gross premiums &gt; Life</td>\n      <td>2015</td>\n      <td>2015</td>\n      <td>USD</td>\n      <td>US Dollar</td>\n      <td>6</td>\n      <td>Millions</td>\n      <td>NaN</td>\n      <td>NaN</td>\n      <td>46633.10</td>\n      <td>NaN</td>\n    </tr>\n    <tr>\n      <th>20</th>\n      <td>AUS</td>\n      <td>Australia</td>\n      <td>I_2</td>\n      <td>Total gross premiums &gt; Life</td>\n      <td>2016</td>\n      <td>2016</td>\n      <td>USD</td>\n      <td>US Dollar</td>\n      <td>6</td>\n      <td>Millions</td>\n      <td>NaN</td>\n      <td>NaN</td>\n      <td>41066.33</td>\n      <td>NaN</td>\n    </tr>\n    <tr>\n      <th>21</th>\n      <td>AUS</td>\n      <td>Australia</td>\n      <td>I_2</td>\n      <td>Total gross premiums &gt; Life</td>\n      <td>2017</td>\n      <td>2017</td>\n      <td>USD</td>\n      <td>US Dollar</td>\n      <td>6</td>\n      <td>Millions</td>\n      <td>NaN</td>\n      <td>NaN</td>\n      <td>37668.29</td>\n      <td>NaN</td>\n    </tr>\n  </tbody>\n</table>\n</div>",
      "text/plain": "    COU    Country  IND                    Indicator   YEA  Year Unit Code  \\\n12  AUS  Australia  I_2  Total gross premiums > Life  2008  2008       USD   \n13  AUS  Australia  I_2  Total gross premiums > Life  2009  2009       USD   \n14  AUS  Australia  I_2  Total gross premiums > Life  2010  2010       USD   \n15  AUS  Australia  I_2  Total gross premiums > Life  2011  2011       USD   \n16  AUS  Australia  I_2  Total gross premiums > Life  2012  2012       USD   \n17  AUS  Australia  I_2  Total gross premiums > Life  2013  2013       USD   \n18  AUS  Australia  I_2  Total gross premiums > Life  2014  2014       USD   \n19  AUS  Australia  I_2  Total gross premiums > Life  2015  2015       USD   \n20  AUS  Australia  I_2  Total gross premiums > Life  2016  2016       USD   \n21  AUS  Australia  I_2  Total gross premiums > Life  2017  2017       USD   \n\n         Unit  PowerCode Code PowerCode  Reference Period Code  \\\n12  US Dollar               6  Millions                    NaN   \n13  US Dollar               6  Millions                    NaN   \n14  US Dollar               6  Millions                    NaN   \n15  US Dollar               6  Millions                    NaN   \n16  US Dollar               6  Millions                    NaN   \n17  US Dollar               6  Millions                    NaN   \n18  US Dollar               6  Millions                    NaN   \n19  US Dollar               6  Millions                    NaN   \n20  US Dollar               6  Millions                    NaN   \n21  US Dollar               6  Millions                    NaN   \n\n    Reference Period     Value  Flag Codes  \n12               NaN  39020.07         NaN  \n13               NaN  32296.58         NaN  \n14               NaN  40317.72         NaN  \n15               NaN  47948.66         NaN  \n16               NaN  46068.84         NaN  \n17               NaN  48121.72         NaN  \n18               NaN  59315.42         NaN  \n19               NaN  46633.10         NaN  \n20               NaN  41066.33         NaN  \n21               NaN  37668.29         NaN  "
     },
     "execution_count": 102,
     "metadata": {},
     "output_type": "execute_result"
    }
   ],
   "source": [
    "#glob_ins_data.Year\n",
    "selection = glob_ins_data.iloc[12:22, 0:14] \n",
    "#https://www.shanelynn.ie/select-pandas-dataframe-rows-and-columns-using-iloc-loc-and-ix\n",
    "selection"
   ]
  },
  {
   "cell_type": "code",
   "execution_count": 76,
   "metadata": {},
   "outputs": [],
   "source": []
  },
  {
   "cell_type": "code",
   "execution_count": 103,
   "metadata": {},
   "outputs": [
    {
     "data": {
      "image/png": "[encoded data removed]",
      "image/svg+xml": "<?xml version=\"1.0\" encoding=\"utf-8\" standalone=\"no\"?>\r\n<!DOCTYPE svg PUBLIC \"-//W3C//DTD SVG 1.1//EN\"\r\n  \"http://www.w3.org/Graphics/SVG/1.1/DTD/svg11.dtd\">\r\n<!-- Created with matplotlib (https://matplotlib.org/) -->\r\n<svg height=\"277.314375pt\" version=\"1.1\" viewBox=\"0 0 401.690625 277.314375\" width=\"401.690625pt\" xmlns=\"http://www.w3.org/2000/svg\" xmlns:xlink=\"http://www.w3.org/1999/xlink\">\r\n <defs>\r\n  <style type=\"text/css\">\r\n*{stroke-linecap:butt;stroke-linejoin:round;}\r\n  </style>\r\n </defs>\r\n <g id=\"figure_1\">\r\n  <g id=\"patch_1\">\r\n   <path d=\"M 0 277.314375 \r\nL 401.690625 277.314375 \r\nL 401.690625 0 \r\nL 0 0 \r\nz\r\n\" style=\"fill:none;\"/>\r\n  </g>\r\n  <g id=\"axes_1\">\r\n   <g id=\"patch_2\">\r\n    <path d=\"M 59.690625 239.758125 \r\nL 394.490625 239.758125 \r\nL 394.490625 22.318125 \r\nL 59.690625 22.318125 \r\nz\r\n\" style=\"fill:#ffffff;\"/>\r\n   </g>\r\n   <g id=\"matplotlib.axis_1\">\r\n    <g id=\"xtick_1\">\r\n     <g id=\"line2d_1\">\r\n      <defs>\r\n       <path d=\"M 0 0 \r\nL 0 3.5 \r\n\" id=\"m605fd06b69\" style=\"stroke:#000000;stroke-width:0.8;\"/>\r\n      </defs>\r\n      <g>\r\n       <use style=\"stroke:#000000;stroke-width:0.8;\" x=\"74.908807\" xlink:href=\"#m605fd06b69\" y=\"239.758125\"/>\r\n      </g>\r\n     </g>\r\n     <g id=\"text_1\">\r\n      <!-- 2008 -->\r\n      <defs>\r\n       <path d=\"M 19.1875 8.296875 \r\nL 53.609375 8.296875 \r\nL 53.609375 0 \r\nL 7.328125 0 \r\nL 7.328125 8.296875 \r\nQ 12.9375 14.109375 22.625 23.890625 \r\nQ 32.328125 33.6875 34.8125 36.53125 \r\nQ 39.546875 41.84375 41.421875 45.53125 \r\nQ 43.3125 49.21875 43.3125 52.78125 \r\nQ 43.3125 58.59375 39.234375 62.25 \r\nQ 35.15625 65.921875 28.609375 65.921875 \r\nQ 23.96875 65.921875 18.8125 64.3125 \r\nQ 13.671875 62.703125 7.8125 59.421875 \r\nL 7.8125 69.390625 \r\nQ 13.765625 71.78125 18.9375 73 \r\nQ 24.125 74.21875 28.421875 74.21875 \r\nQ 39.75 74.21875 46.484375 68.546875 \r\nQ 53.21875 62.890625 53.21875 53.421875 \r\nQ 53.21875 48.921875 51.53125 44.890625 \r\nQ 49.859375 40.875 45.40625 35.40625 \r\nQ 44.1875 33.984375 37.640625 27.21875 \r\nQ 31.109375 20.453125 19.1875 8.296875 \r\nz\r\n\" id=\"DejaVuSans-50\"/>\r\n       <path d=\"M 31.78125 66.40625 \r\nQ 24.171875 66.40625 20.328125 58.90625 \r\nQ 16.5 51.421875 16.5 36.375 \r\nQ 16.5 21.390625 20.328125 13.890625 \r\nQ 24.171875 6.390625 31.78125 6.390625 \r\nQ 39.453125 6.390625 43.28125 13.890625 \r\nQ 47.125 21.390625 47.125 36.375 \r\nQ 47.125 51.421875 43.28125 58.90625 \r\nQ 39.453125 66.40625 31.78125 66.40625 \r\nz\r\nM 31.78125 74.21875 \r\nQ 44.046875 74.21875 50.515625 64.515625 \r\nQ 56.984375 54.828125 56.984375 36.375 \r\nQ 56.984375 17.96875 50.515625 8.265625 \r\nQ 44.046875 -1.421875 31.78125 -1.421875 \r\nQ 19.53125 -1.421875 13.0625 8.265625 \r\nQ 6.59375 17.96875 6.59375 36.375 \r\nQ 6.59375 54.828125 13.0625 64.515625 \r\nQ 19.53125 74.21875 31.78125 74.21875 \r\nz\r\n\" id=\"DejaVuSans-48\"/>\r\n       <path d=\"M 31.78125 34.625 \r\nQ 24.75 34.625 20.71875 30.859375 \r\nQ 16.703125 27.09375 16.703125 20.515625 \r\nQ 16.703125 13.921875 20.71875 10.15625 \r\nQ 24.75 6.390625 31.78125 6.390625 \r\nQ 38.8125 6.390625 42.859375 10.171875 \r\nQ 46.921875 13.96875 46.921875 20.515625 \r\nQ 46.921875 27.09375 42.890625 30.859375 \r\nQ 38.875 34.625 31.78125 34.625 \r\nz\r\nM 21.921875 38.8125 \r\nQ 15.578125 40.375 12.03125 44.71875 \r\nQ 8.5 49.078125 8.5 55.328125 \r\nQ 8.5 64.0625 14.71875 69.140625 \r\nQ 20.953125 74.21875 31.78125 74.21875 \r\nQ 42.671875 74.21875 48.875 69.140625 \r\nQ 55.078125 64.0625 55.078125 55.328125 \r\nQ 55.078125 49.078125 51.53125 44.71875 \r\nQ 48 40.375 41.703125 38.8125 \r\nQ 48.828125 37.15625 52.796875 32.3125 \r\nQ 56.78125 27.484375 56.78125 20.515625 \r\nQ 56.78125 9.90625 50.3125 4.234375 \r\nQ 43.84375 -1.421875 31.78125 -1.421875 \r\nQ 19.734375 -1.421875 13.25 4.234375 \r\nQ 6.78125 9.90625 6.78125 20.515625 \r\nQ 6.78125 27.484375 10.78125 32.3125 \r\nQ 14.796875 37.15625 21.921875 38.8125 \r\nz\r\nM 18.3125 54.390625 \r\nQ 18.3125 48.734375 21.84375 45.5625 \r\nQ 25.390625 42.390625 31.78125 42.390625 \r\nQ 38.140625 42.390625 41.71875 45.5625 \r\nQ 45.3125 48.734375 45.3125 54.390625 \r\nQ 45.3125 60.0625 41.71875 63.234375 \r\nQ 38.140625 66.40625 31.78125 66.40625 \r\nQ 25.390625 66.40625 21.84375 63.234375 \r\nQ 18.3125 60.0625 18.3125 54.390625 \r\nz\r\n\" id=\"DejaVuSans-56\"/>\r\n      </defs>\r\n      <g transform=\"translate(62.183807 254.356562)scale(0.1 -0.1)\">\r\n       <use xlink:href=\"#DejaVuSans-50\"/>\r\n       <use x=\"63.623047\" xlink:href=\"#DejaVuSans-48\"/>\r\n       <use x=\"127.246094\" xlink:href=\"#DejaVuSans-48\"/>\r\n       <use x=\"190.869141\" xlink:href=\"#DejaVuSans-56\"/>\r\n      </g>\r\n     </g>\r\n    </g>\r\n    <g id=\"xtick_2\">\r\n     <g id=\"line2d_2\">\r\n      <g>\r\n       <use style=\"stroke:#000000;stroke-width:0.8;\" x=\"142.54517\" xlink:href=\"#m605fd06b69\" y=\"239.758125\"/>\r\n      </g>\r\n     </g>\r\n     <g id=\"text_2\">\r\n      <!-- 2010 -->\r\n      <defs>\r\n       <path d=\"M 12.40625 8.296875 \r\nL 28.515625 8.296875 \r\nL 28.515625 63.921875 \r\nL 10.984375 60.40625 \r\nL 10.984375 69.390625 \r\nL 28.421875 72.90625 \r\nL 38.28125 72.90625 \r\nL 38.28125 8.296875 \r\nL 54.390625 8.296875 \r\nL 54.390625 0 \r\nL 12.40625 0 \r\nz\r\n\" id=\"DejaVuSans-49\"/>\r\n      </defs>\r\n      <g transform=\"translate(129.82017 254.356562)scale(0.1 -0.1)\">\r\n       <use xlink:href=\"#DejaVuSans-50\"/>\r\n       <use x=\"63.623047\" xlink:href=\"#DejaVuSans-48\"/>\r\n       <use x=\"127.246094\" xlink:href=\"#DejaVuSans-49\"/>\r\n       <use x=\"190.869141\" xlink:href=\"#DejaVuSans-48\"/>\r\n      </g>\r\n     </g>\r\n    </g>\r\n    <g id=\"xtick_3\">\r\n     <g id=\"line2d_3\">\r\n      <g>\r\n       <use style=\"stroke:#000000;stroke-width:0.8;\" x=\"210.181534\" xlink:href=\"#m605fd06b69\" y=\"239.758125\"/>\r\n      </g>\r\n     </g>\r\n     <g id=\"text_3\">\r\n      <!-- 2012 -->\r\n      <g transform=\"translate(197.456534 254.356562)scale(0.1 -0.1)\">\r\n       <use xlink:href=\"#DejaVuSans-50\"/>\r\n       <use x=\"63.623047\" xlink:href=\"#DejaVuSans-48\"/>\r\n       <use x=\"127.246094\" xlink:href=\"#DejaVuSans-49\"/>\r\n       <use x=\"190.869141\" xlink:href=\"#DejaVuSans-50\"/>\r\n      </g>\r\n     </g>\r\n    </g>\r\n    <g id=\"xtick_4\">\r\n     <g id=\"line2d_4\">\r\n      <g>\r\n       <use style=\"stroke:#000000;stroke-width:0.8;\" x=\"277.817898\" xlink:href=\"#m605fd06b69\" y=\"239.758125\"/>\r\n      </g>\r\n     </g>\r\n     <g id=\"text_4\">\r\n      <!-- 2014 -->\r\n      <defs>\r\n       <path d=\"M 37.796875 64.3125 \r\nL 12.890625 25.390625 \r\nL 37.796875 25.390625 \r\nz\r\nM 35.203125 72.90625 \r\nL 47.609375 72.90625 \r\nL 47.609375 25.390625 \r\nL 58.015625 25.390625 \r\nL 58.015625 17.1875 \r\nL 47.609375 17.1875 \r\nL 47.609375 0 \r\nL 37.796875 0 \r\nL 37.796875 17.1875 \r\nL 4.890625 17.1875 \r\nL 4.890625 26.703125 \r\nz\r\n\" id=\"DejaVuSans-52\"/>\r\n      </defs>\r\n      <g transform=\"translate(265.092898 254.356562)scale(0.1 -0.1)\">\r\n       <use xlink:href=\"#DejaVuSans-50\"/>\r\n       <use x=\"63.623047\" xlink:href=\"#DejaVuSans-48\"/>\r\n       <use x=\"127.246094\" xlink:href=\"#DejaVuSans-49\"/>\r\n       <use x=\"190.869141\" xlink:href=\"#DejaVuSans-52\"/>\r\n      </g>\r\n     </g>\r\n    </g>\r\n    <g id=\"xtick_5\">\r\n     <g id=\"line2d_5\">\r\n      <g>\r\n       <use style=\"stroke:#000000;stroke-width:0.8;\" x=\"345.454261\" xlink:href=\"#m605fd06b69\" y=\"239.758125\"/>\r\n      </g>\r\n     </g>\r\n     <g id=\"text_5\">\r\n      <!-- 2016 -->\r\n      <defs>\r\n       <path d=\"M 33.015625 40.375 \r\nQ 26.375 40.375 22.484375 35.828125 \r\nQ 18.609375 31.296875 18.609375 23.390625 \r\nQ 18.609375 15.53125 22.484375 10.953125 \r\nQ 26.375 6.390625 33.015625 6.390625 \r\nQ 39.65625 6.390625 43.53125 10.953125 \r\nQ 47.40625 15.53125 47.40625 23.390625 \r\nQ 47.40625 31.296875 43.53125 35.828125 \r\nQ 39.65625 40.375 33.015625 40.375 \r\nz\r\nM 52.59375 71.296875 \r\nL 52.59375 62.3125 \r\nQ 48.875 64.0625 45.09375 64.984375 \r\nQ 41.3125 65.921875 37.59375 65.921875 \r\nQ 27.828125 65.921875 22.671875 59.328125 \r\nQ 17.53125 52.734375 16.796875 39.40625 \r\nQ 19.671875 43.65625 24.015625 45.921875 \r\nQ 28.375 48.1875 33.59375 48.1875 \r\nQ 44.578125 48.1875 50.953125 41.515625 \r\nQ 57.328125 34.859375 57.328125 23.390625 \r\nQ 57.328125 12.15625 50.6875 5.359375 \r\nQ 44.046875 -1.421875 33.015625 -1.421875 \r\nQ 20.359375 -1.421875 13.671875 8.265625 \r\nQ 6.984375 17.96875 6.984375 36.375 \r\nQ 6.984375 53.65625 15.1875 63.9375 \r\nQ 23.390625 74.21875 37.203125 74.21875 \r\nQ 40.921875 74.21875 44.703125 73.484375 \r\nQ 48.484375 72.75 52.59375 71.296875 \r\nz\r\n\" id=\"DejaVuSans-54\"/>\r\n      </defs>\r\n      <g transform=\"translate(332.729261 254.356562)scale(0.1 -0.1)\">\r\n       <use xlink:href=\"#DejaVuSans-50\"/>\r\n       <use x=\"63.623047\" xlink:href=\"#DejaVuSans-48\"/>\r\n       <use x=\"127.246094\" xlink:href=\"#DejaVuSans-49\"/>\r\n       <use x=\"190.869141\" xlink:href=\"#DejaVuSans-54\"/>\r\n      </g>\r\n     </g>\r\n    </g>\r\n    <g id=\"text_6\">\r\n     <!-- Year -->\r\n     <defs>\r\n      <path d=\"M -0.203125 72.90625 \r\nL 10.40625 72.90625 \r\nL 30.609375 42.921875 \r\nL 50.6875 72.90625 \r\nL 61.28125 72.90625 \r\nL 35.5 34.71875 \r\nL 35.5 0 \r\nL 25.59375 0 \r\nL 25.59375 34.71875 \r\nz\r\n\" id=\"DejaVuSans-89\"/>\r\n      <path d=\"M 56.203125 29.59375 \r\nL 56.203125 25.203125 \r\nL 14.890625 25.203125 \r\nQ 15.484375 15.921875 20.484375 11.0625 \r\nQ 25.484375 6.203125 34.421875 6.203125 \r\nQ 39.59375 6.203125 44.453125 7.46875 \r\nQ 49.3125 8.734375 54.109375 11.28125 \r\nL 54.109375 2.78125 \r\nQ 49.265625 0.734375 44.1875 -0.34375 \r\nQ 39.109375 -1.421875 33.890625 -1.421875 \r\nQ 20.796875 -1.421875 13.15625 6.1875 \r\nQ 5.515625 13.8125 5.515625 26.8125 \r\nQ 5.515625 40.234375 12.765625 48.109375 \r\nQ 20.015625 56 32.328125 56 \r\nQ 43.359375 56 49.78125 48.890625 \r\nQ 56.203125 41.796875 56.203125 29.59375 \r\nz\r\nM 47.21875 32.234375 \r\nQ 47.125 39.59375 43.09375 43.984375 \r\nQ 39.0625 48.390625 32.421875 48.390625 \r\nQ 24.90625 48.390625 20.390625 44.140625 \r\nQ 15.875 39.890625 15.1875 32.171875 \r\nz\r\n\" id=\"DejaVuSans-101\"/>\r\n      <path d=\"M 34.28125 27.484375 \r\nQ 23.390625 27.484375 19.1875 25 \r\nQ 14.984375 22.515625 14.984375 16.5 \r\nQ 14.984375 11.71875 18.140625 8.90625 \r\nQ 21.296875 6.109375 26.703125 6.109375 \r\nQ 34.1875 6.109375 38.703125 11.40625 \r\nQ 43.21875 16.703125 43.21875 25.484375 \r\nL 43.21875 27.484375 \r\nz\r\nM 52.203125 31.203125 \r\nL 52.203125 0 \r\nL 43.21875 0 \r\nL 43.21875 8.296875 \r\nQ 40.140625 3.328125 35.546875 0.953125 \r\nQ 30.953125 -1.421875 24.3125 -1.421875 \r\nQ 15.921875 -1.421875 10.953125 3.296875 \r\nQ 6 8.015625 6 15.921875 \r\nQ 6 25.140625 12.171875 29.828125 \r\nQ 18.359375 34.515625 30.609375 34.515625 \r\nL 43.21875 34.515625 \r\nL 43.21875 35.40625 \r\nQ 43.21875 41.609375 39.140625 45 \r\nQ 35.0625 48.390625 27.6875 48.390625 \r\nQ 23 48.390625 18.546875 47.265625 \r\nQ 14.109375 46.140625 10.015625 43.890625 \r\nL 10.015625 52.203125 \r\nQ 14.9375 54.109375 19.578125 55.046875 \r\nQ 24.21875 56 28.609375 56 \r\nQ 40.484375 56 46.34375 49.84375 \r\nQ 52.203125 43.703125 52.203125 31.203125 \r\nz\r\n\" id=\"DejaVuSans-97\"/>\r\n      <path d=\"M 41.109375 46.296875 \r\nQ 39.59375 47.171875 37.8125 47.578125 \r\nQ 36.03125 48 33.890625 48 \r\nQ 26.265625 48 22.1875 43.046875 \r\nQ 18.109375 38.09375 18.109375 28.8125 \r\nL 18.109375 0 \r\nL 9.078125 0 \r\nL 9.078125 54.6875 \r\nL 18.109375 54.6875 \r\nL 18.109375 46.1875 \r\nQ 20.953125 51.171875 25.484375 53.578125 \r\nQ 30.03125 56 36.53125 56 \r\nQ 37.453125 56 38.578125 55.875 \r\nQ 39.703125 55.765625 41.0625 55.515625 \r\nz\r\n\" id=\"DejaVuSans-114\"/>\r\n     </defs>\r\n     <g transform=\"translate(215.850781 268.034687)scale(0.1 -0.1)\">\r\n      <use xlink:href=\"#DejaVuSans-89\"/>\r\n      <use x=\"60.880859\" xlink:href=\"#DejaVuSans-101\"/>\r\n      <use x=\"122.404297\" xlink:href=\"#DejaVuSans-97\"/>\r\n      <use x=\"183.683594\" xlink:href=\"#DejaVuSans-114\"/>\r\n     </g>\r\n    </g>\r\n   </g>\r\n   <g id=\"matplotlib.axis_2\">\r\n    <g id=\"ytick_1\">\r\n     <g id=\"line2d_6\">\r\n      <defs>\r\n       <path d=\"M 0 0 \r\nL -3.5 0 \r\n\" id=\"m302ac468d0\" style=\"stroke:#000000;stroke-width:0.8;\"/>\r\n      </defs>\r\n      <g>\r\n       <use style=\"stroke:#000000;stroke-width:0.8;\" x=\"59.690625\" xlink:href=\"#m302ac468d0\" y=\"210.096003\"/>\r\n      </g>\r\n     </g>\r\n     <g id=\"text_7\">\r\n      <!-- 35000 -->\r\n      <defs>\r\n       <path d=\"M 40.578125 39.3125 \r\nQ 47.65625 37.796875 51.625 33 \r\nQ 55.609375 28.21875 55.609375 21.1875 \r\nQ 55.609375 10.40625 48.1875 4.484375 \r\nQ 40.765625 -1.421875 27.09375 -1.421875 \r\nQ 22.515625 -1.421875 17.65625 -0.515625 \r\nQ 12.796875 0.390625 7.625 2.203125 \r\nL 7.625 11.71875 \r\nQ 11.71875 9.328125 16.59375 8.109375 \r\nQ 21.484375 6.890625 26.8125 6.890625 \r\nQ 36.078125 6.890625 40.9375 10.546875 \r\nQ 45.796875 14.203125 45.796875 21.1875 \r\nQ 45.796875 27.640625 41.28125 31.265625 \r\nQ 36.765625 34.90625 28.71875 34.90625 \r\nL 20.21875 34.90625 \r\nL 20.21875 43.015625 \r\nL 29.109375 43.015625 \r\nQ 36.375 43.015625 40.234375 45.921875 \r\nQ 44.09375 48.828125 44.09375 54.296875 \r\nQ 44.09375 59.90625 40.109375 62.90625 \r\nQ 36.140625 65.921875 28.71875 65.921875 \r\nQ 24.65625 65.921875 20.015625 65.03125 \r\nQ 15.375 64.15625 9.8125 62.3125 \r\nL 9.8125 71.09375 \r\nQ 15.4375 72.65625 20.34375 73.4375 \r\nQ 25.25 74.21875 29.59375 74.21875 \r\nQ 40.828125 74.21875 47.359375 69.109375 \r\nQ 53.90625 64.015625 53.90625 55.328125 \r\nQ 53.90625 49.265625 50.4375 45.09375 \r\nQ 46.96875 40.921875 40.578125 39.3125 \r\nz\r\n\" id=\"DejaVuSans-51\"/>\r\n       <path d=\"M 10.796875 72.90625 \r\nL 49.515625 72.90625 \r\nL 49.515625 64.59375 \r\nL 19.828125 64.59375 \r\nL 19.828125 46.734375 \r\nQ 21.96875 47.46875 24.109375 47.828125 \r\nQ 26.265625 48.1875 28.421875 48.1875 \r\nQ 40.625 48.1875 47.75 41.5 \r\nQ 54.890625 34.8125 54.890625 23.390625 \r\nQ 54.890625 11.625 47.5625 5.09375 \r\nQ 40.234375 -1.421875 26.90625 -1.421875 \r\nQ 22.3125 -1.421875 17.546875 -0.640625 \r\nQ 12.796875 0.140625 7.71875 1.703125 \r\nL 7.71875 11.625 \r\nQ 12.109375 9.234375 16.796875 8.0625 \r\nQ 21.484375 6.890625 26.703125 6.890625 \r\nQ 35.15625 6.890625 40.078125 11.328125 \r\nQ 45.015625 15.765625 45.015625 23.390625 \r\nQ 45.015625 31 40.078125 35.4375 \r\nQ 35.15625 39.890625 26.703125 39.890625 \r\nQ 22.75 39.890625 18.8125 39.015625 \r\nQ 14.890625 38.140625 10.796875 36.28125 \r\nz\r\n\" id=\"DejaVuSans-53\"/>\r\n      </defs>\r\n      <g transform=\"translate(20.878125 213.895221)scale(0.1 -0.1)\">\r\n       <use xlink:href=\"#DejaVuSans-51\"/>\r\n       <use x=\"63.623047\" xlink:href=\"#DejaVuSans-53\"/>\r\n       <use x=\"127.246094\" xlink:href=\"#DejaVuSans-48\"/>\r\n       <use x=\"190.869141\" xlink:href=\"#DejaVuSans-48\"/>\r\n       <use x=\"254.492188\" xlink:href=\"#DejaVuSans-48\"/>\r\n      </g>\r\n     </g>\r\n    </g>\r\n    <g id=\"ytick_2\">\r\n     <g id=\"line2d_7\">\r\n      <g>\r\n       <use style=\"stroke:#000000;stroke-width:0.8;\" x=\"59.690625\" xlink:href=\"#m302ac468d0\" y=\"173.515458\"/>\r\n      </g>\r\n     </g>\r\n     <g id=\"text_8\">\r\n      <!-- 40000 -->\r\n      <g transform=\"translate(20.878125 177.314676)scale(0.1 -0.1)\">\r\n       <use xlink:href=\"#DejaVuSans-52\"/>\r\n       <use x=\"63.623047\" xlink:href=\"#DejaVuSans-48\"/>\r\n       <use x=\"127.246094\" xlink:href=\"#DejaVuSans-48\"/>\r\n       <use x=\"190.869141\" xlink:href=\"#DejaVuSans-48\"/>\r\n       <use x=\"254.492188\" xlink:href=\"#DejaVuSans-48\"/>\r\n      </g>\r\n     </g>\r\n    </g>\r\n    <g id=\"ytick_3\">\r\n     <g id=\"line2d_8\">\r\n      <g>\r\n       <use style=\"stroke:#000000;stroke-width:0.8;\" x=\"59.690625\" xlink:href=\"#m302ac468d0\" y=\"136.934913\"/>\r\n      </g>\r\n     </g>\r\n     <g id=\"text_9\">\r\n      <!-- 45000 -->\r\n      <g transform=\"translate(20.878125 140.734131)scale(0.1 -0.1)\">\r\n       <use xlink:href=\"#DejaVuSans-52\"/>\r\n       <use x=\"63.623047\" xlink:href=\"#DejaVuSans-53\"/>\r\n       <use x=\"127.246094\" xlink:href=\"#DejaVuSans-48\"/>\r\n       <use x=\"190.869141\" xlink:href=\"#DejaVuSans-48\"/>\r\n       <use x=\"254.492188\" xlink:href=\"#DejaVuSans-48\"/>\r\n      </g>\r\n     </g>\r\n    </g>\r\n    <g id=\"ytick_4\">\r\n     <g id=\"line2d_9\">\r\n      <g>\r\n       <use style=\"stroke:#000000;stroke-width:0.8;\" x=\"59.690625\" xlink:href=\"#m302ac468d0\" y=\"100.354368\"/>\r\n      </g>\r\n     </g>\r\n     <g id=\"text_10\">\r\n      <!-- 50000 -->\r\n      <g transform=\"translate(20.878125 104.153586)scale(0.1 -0.1)\">\r\n       <use xlink:href=\"#DejaVuSans-53\"/>\r\n       <use x=\"63.623047\" xlink:href=\"#DejaVuSans-48\"/>\r\n       <use x=\"127.246094\" xlink:href=\"#DejaVuSans-48\"/>\r\n       <use x=\"190.869141\" xlink:href=\"#DejaVuSans-48\"/>\r\n       <use x=\"254.492188\" xlink:href=\"#DejaVuSans-48\"/>\r\n      </g>\r\n     </g>\r\n    </g>\r\n    <g id=\"ytick_5\">\r\n     <g id=\"line2d_10\">\r\n      <g>\r\n       <use style=\"stroke:#000000;stroke-width:0.8;\" x=\"59.690625\" xlink:href=\"#m302ac468d0\" y=\"63.773823\"/>\r\n      </g>\r\n     </g>\r\n     <g id=\"text_11\">\r\n      <!-- 55000 -->\r\n      <g transform=\"translate(20.878125 67.573041)scale(0.1 -0.1)\">\r\n       <use xlink:href=\"#DejaVuSans-53\"/>\r\n       <use x=\"63.623047\" xlink:href=\"#DejaVuSans-53\"/>\r\n       <use x=\"127.246094\" xlink:href=\"#DejaVuSans-48\"/>\r\n       <use x=\"190.869141\" xlink:href=\"#DejaVuSans-48\"/>\r\n       <use x=\"254.492188\" xlink:href=\"#DejaVuSans-48\"/>\r\n      </g>\r\n     </g>\r\n    </g>\r\n    <g id=\"ytick_6\">\r\n     <g id=\"line2d_11\">\r\n      <g>\r\n       <use style=\"stroke:#000000;stroke-width:0.8;\" x=\"59.690625\" xlink:href=\"#m302ac468d0\" y=\"27.193278\"/>\r\n      </g>\r\n     </g>\r\n     <g id=\"text_12\">\r\n      <!-- 60000 -->\r\n      <g transform=\"translate(20.878125 30.992496)scale(0.1 -0.1)\">\r\n       <use xlink:href=\"#DejaVuSans-54\"/>\r\n       <use x=\"63.623047\" xlink:href=\"#DejaVuSans-48\"/>\r\n       <use x=\"127.246094\" xlink:href=\"#DejaVuSans-48\"/>\r\n       <use x=\"190.869141\" xlink:href=\"#DejaVuSans-48\"/>\r\n       <use x=\"254.492188\" xlink:href=\"#DejaVuSans-48\"/>\r\n      </g>\r\n     </g>\r\n    </g>\r\n    <g id=\"text_13\">\r\n     <!-- USD -->\r\n     <defs>\r\n      <path d=\"M 8.6875 72.90625 \r\nL 18.609375 72.90625 \r\nL 18.609375 28.609375 \r\nQ 18.609375 16.890625 22.84375 11.734375 \r\nQ 27.09375 6.59375 36.625 6.59375 \r\nQ 46.09375 6.59375 50.34375 11.734375 \r\nQ 54.59375 16.890625 54.59375 28.609375 \r\nL 54.59375 72.90625 \r\nL 64.5 72.90625 \r\nL 64.5 27.390625 \r\nQ 64.5 13.140625 57.4375 5.859375 \r\nQ 50.390625 -1.421875 36.625 -1.421875 \r\nQ 22.796875 -1.421875 15.734375 5.859375 \r\nQ 8.6875 13.140625 8.6875 27.390625 \r\nz\r\n\" id=\"DejaVuSans-85\"/>\r\n      <path d=\"M 53.515625 70.515625 \r\nL 53.515625 60.890625 \r\nQ 47.90625 63.578125 42.921875 64.890625 \r\nQ 37.9375 66.21875 33.296875 66.21875 \r\nQ 25.25 66.21875 20.875 63.09375 \r\nQ 16.5 59.96875 16.5 54.203125 \r\nQ 16.5 49.359375 19.40625 46.890625 \r\nQ 22.3125 44.4375 30.421875 42.921875 \r\nL 36.375 41.703125 \r\nQ 47.40625 39.59375 52.65625 34.296875 \r\nQ 57.90625 29 57.90625 20.125 \r\nQ 57.90625 9.515625 50.796875 4.046875 \r\nQ 43.703125 -1.421875 29.984375 -1.421875 \r\nQ 24.8125 -1.421875 18.96875 -0.25 \r\nQ 13.140625 0.921875 6.890625 3.21875 \r\nL 6.890625 13.375 \r\nQ 12.890625 10.015625 18.65625 8.296875 \r\nQ 24.421875 6.59375 29.984375 6.59375 \r\nQ 38.421875 6.59375 43.015625 9.90625 \r\nQ 47.609375 13.234375 47.609375 19.390625 \r\nQ 47.609375 24.75 44.3125 27.78125 \r\nQ 41.015625 30.8125 33.5 32.328125 \r\nL 27.484375 33.5 \r\nQ 16.453125 35.6875 11.515625 40.375 \r\nQ 6.59375 45.0625 6.59375 53.421875 \r\nQ 6.59375 63.09375 13.40625 68.65625 \r\nQ 20.21875 74.21875 32.171875 74.21875 \r\nQ 37.3125 74.21875 42.625 73.28125 \r\nQ 47.953125 72.359375 53.515625 70.515625 \r\nz\r\n\" id=\"DejaVuSans-83\"/>\r\n      <path d=\"M 19.671875 64.796875 \r\nL 19.671875 8.109375 \r\nL 31.59375 8.109375 \r\nQ 46.6875 8.109375 53.6875 14.9375 \r\nQ 60.6875 21.78125 60.6875 36.53125 \r\nQ 60.6875 51.171875 53.6875 57.984375 \r\nQ 46.6875 64.796875 31.59375 64.796875 \r\nz\r\nM 9.8125 72.90625 \r\nL 30.078125 72.90625 \r\nQ 51.265625 72.90625 61.171875 64.09375 \r\nQ 71.09375 55.28125 71.09375 36.53125 \r\nQ 71.09375 17.671875 61.125 8.828125 \r\nQ 51.171875 0 30.078125 0 \r\nL 9.8125 0 \r\nz\r\n\" id=\"DejaVuSans-68\"/>\r\n     </defs>\r\n     <g transform=\"translate(14.798438 141.721719)rotate(-90)scale(0.1 -0.1)\">\r\n      <use xlink:href=\"#DejaVuSans-85\"/>\r\n      <use x=\"73.193359\" xlink:href=\"#DejaVuSans-83\"/>\r\n      <use x=\"136.669922\" xlink:href=\"#DejaVuSans-68\"/>\r\n     </g>\r\n    </g>\r\n   </g>\r\n   <g id=\"line2d_12\">\r\n    <path clip-path=\"url(#pcabfd6b18c)\" d=\"M 74.908807 180.684718 \r\nL 108.726989 229.874489 \r\nL 142.54517 171.190969 \r\nL 176.363352 115.362202 \r\nL 210.181534 129.115133 \r\nL 243.999716 114.096076 \r\nL 277.817898 32.201761 \r\nL 311.63608 124.986982 \r\nL 345.454261 165.714078 \r\nL 379.272443 190.574531 \r\n\" style=\"fill:none;stroke:#0000ff;stroke-dasharray:11.1,4.8;stroke-dashoffset:0;stroke-width:3;\"/>\r\n   </g>\r\n   <g id=\"patch_3\">\r\n    <path d=\"M 59.690625 239.758125 \r\nL 59.690625 22.318125 \r\n\" style=\"fill:none;stroke:#000000;stroke-linecap:square;stroke-linejoin:miter;stroke-width:0.8;\"/>\r\n   </g>\r\n   <g id=\"patch_4\">\r\n    <path d=\"M 394.490625 239.758125 \r\nL 394.490625 22.318125 \r\n\" style=\"fill:none;stroke:#000000;stroke-linecap:square;stroke-linejoin:miter;stroke-width:0.8;\"/>\r\n   </g>\r\n   <g id=\"patch_5\">\r\n    <path d=\"M 59.690625 239.758125 \r\nL 394.490625 239.758125 \r\n\" style=\"fill:none;stroke:#000000;stroke-linecap:square;stroke-linejoin:miter;stroke-width:0.8;\"/>\r\n   </g>\r\n   <g id=\"patch_6\">\r\n    <path d=\"M 59.690625 22.318125 \r\nL 394.490625 22.318125 \r\n\" style=\"fill:none;stroke:#000000;stroke-linecap:square;stroke-linejoin:miter;stroke-width:0.8;\"/>\r\n   </g>\r\n   <g id=\"text_14\">\r\n    <!-- Australia -->\r\n    <defs>\r\n     <path d=\"M 34.1875 63.1875 \r\nL 20.796875 26.90625 \r\nL 47.609375 26.90625 \r\nz\r\nM 28.609375 72.90625 \r\nL 39.796875 72.90625 \r\nL 67.578125 0 \r\nL 57.328125 0 \r\nL 50.6875 18.703125 \r\nL 17.828125 18.703125 \r\nL 11.1875 0 \r\nL 0.78125 0 \r\nz\r\n\" id=\"DejaVuSans-65\"/>\r\n     <path d=\"M 8.5 21.578125 \r\nL 8.5 54.6875 \r\nL 17.484375 54.6875 \r\nL 17.484375 21.921875 \r\nQ 17.484375 14.15625 20.5 10.265625 \r\nQ 23.53125 6.390625 29.59375 6.390625 \r\nQ 36.859375 6.390625 41.078125 11.03125 \r\nQ 45.3125 15.671875 45.3125 23.6875 \r\nL 45.3125 54.6875 \r\nL 54.296875 54.6875 \r\nL 54.296875 0 \r\nL 45.3125 0 \r\nL 45.3125 8.40625 \r\nQ 42.046875 3.421875 37.71875 1 \r\nQ 33.40625 -1.421875 27.6875 -1.421875 \r\nQ 18.265625 -1.421875 13.375 4.4375 \r\nQ 8.5 10.296875 8.5 21.578125 \r\nz\r\nM 31.109375 56 \r\nz\r\n\" id=\"DejaVuSans-117\"/>\r\n     <path d=\"M 44.28125 53.078125 \r\nL 44.28125 44.578125 \r\nQ 40.484375 46.53125 36.375 47.5 \r\nQ 32.28125 48.484375 27.875 48.484375 \r\nQ 21.1875 48.484375 17.84375 46.4375 \r\nQ 14.5 44.390625 14.5 40.28125 \r\nQ 14.5 37.15625 16.890625 35.375 \r\nQ 19.28125 33.59375 26.515625 31.984375 \r\nL 29.59375 31.296875 \r\nQ 39.15625 29.25 43.1875 25.515625 \r\nQ 47.21875 21.78125 47.21875 15.09375 \r\nQ 47.21875 7.46875 41.1875 3.015625 \r\nQ 35.15625 -1.421875 24.609375 -1.421875 \r\nQ 20.21875 -1.421875 15.453125 -0.5625 \r\nQ 10.6875 0.296875 5.421875 2 \r\nL 5.421875 11.28125 \r\nQ 10.40625 8.6875 15.234375 7.390625 \r\nQ 20.0625 6.109375 24.8125 6.109375 \r\nQ 31.15625 6.109375 34.5625 8.28125 \r\nQ 37.984375 10.453125 37.984375 14.40625 \r\nQ 37.984375 18.0625 35.515625 20.015625 \r\nQ 33.0625 21.96875 24.703125 23.78125 \r\nL 21.578125 24.515625 \r\nQ 13.234375 26.265625 9.515625 29.90625 \r\nQ 5.8125 33.546875 5.8125 39.890625 \r\nQ 5.8125 47.609375 11.28125 51.796875 \r\nQ 16.75 56 26.8125 56 \r\nQ 31.78125 56 36.171875 55.265625 \r\nQ 40.578125 54.546875 44.28125 53.078125 \r\nz\r\n\" id=\"DejaVuSans-115\"/>\r\n     <path d=\"M 18.3125 70.21875 \r\nL 18.3125 54.6875 \r\nL 36.8125 54.6875 \r\nL 36.8125 47.703125 \r\nL 18.3125 47.703125 \r\nL 18.3125 18.015625 \r\nQ 18.3125 11.328125 20.140625 9.421875 \r\nQ 21.96875 7.515625 27.59375 7.515625 \r\nL 36.8125 7.515625 \r\nL 36.8125 0 \r\nL 27.59375 0 \r\nQ 17.1875 0 13.234375 3.875 \r\nQ 9.28125 7.765625 9.28125 18.015625 \r\nL 9.28125 47.703125 \r\nL 2.6875 47.703125 \r\nL 2.6875 54.6875 \r\nL 9.28125 54.6875 \r\nL 9.28125 70.21875 \r\nz\r\n\" id=\"DejaVuSans-116\"/>\r\n     <path d=\"M 9.421875 75.984375 \r\nL 18.40625 75.984375 \r\nL 18.40625 0 \r\nL 9.421875 0 \r\nz\r\n\" id=\"DejaVuSans-108\"/>\r\n     <path d=\"M 9.421875 54.6875 \r\nL 18.40625 54.6875 \r\nL 18.40625 0 \r\nL 9.421875 0 \r\nz\r\nM 9.421875 75.984375 \r\nL 18.40625 75.984375 \r\nL 18.40625 64.59375 \r\nL 9.421875 64.59375 \r\nz\r\n\" id=\"DejaVuSans-105\"/>\r\n    </defs>\r\n    <g transform=\"translate(200.551875 16.318125)scale(0.12 -0.12)\">\r\n     <use xlink:href=\"#DejaVuSans-65\"/>\r\n     <use x=\"68.408203\" xlink:href=\"#DejaVuSans-117\"/>\r\n     <use x=\"131.787109\" xlink:href=\"#DejaVuSans-115\"/>\r\n     <use x=\"183.886719\" xlink:href=\"#DejaVuSans-116\"/>\r\n     <use x=\"223.095703\" xlink:href=\"#DejaVuSans-114\"/>\r\n     <use x=\"264.208984\" xlink:href=\"#DejaVuSans-97\"/>\r\n     <use x=\"325.488281\" xlink:href=\"#DejaVuSans-108\"/>\r\n     <use x=\"353.271484\" xlink:href=\"#DejaVuSans-105\"/>\r\n     <use x=\"381.054688\" xlink:href=\"#DejaVuSans-97\"/>\r\n    </g>\r\n   </g>\r\n  </g>\r\n </g>\r\n <defs>\r\n  <clipPath id=\"pcabfd6b18c\">\r\n   <rect height=\"217.44\" width=\"334.8\" x=\"59.690625\" y=\"22.318125\"/>\r\n  </clipPath>\r\n </defs>\r\n</svg>\r\n",
      "text/plain": "<Figure size 432x288 with 1 Axes>"
     },
     "metadata": {
      "needs_background": "light"
     },
     "output_type": "display_data"
    }
   ],
   "source": [
    "bp_x = selection[\"Year\"]\n",
    "bp_y = selection[\"Value\"]\n",
    "\n",
    "# Make the plot\n",
    "plt.plot(bp_x, bp_y, linewidth=3, linestyle=\"--\",\n",
    "         color=\"blue\", label=r\"Legend label $\\sin(x)$\")\n",
    "plt.xlabel(r\"Year\")\n",
    "plt.ylabel(r\"USD\") \n",
    "plt.title(\"Australia\")\n",
    "plt.show()"
   ]
  },
  {
   "cell_type": "code",
   "execution_count": 104,
   "metadata": {},
   "outputs": [],
   "source": [
    "# eine weitere Übungsrunde: https://realpython.com/pandas-python-explore-dataset/"
   ]
  },
  {
   "cell_type": "code",
   "execution_count": 105,
   "metadata": {},
   "outputs": [],
   "source": [
    "import requests"
   ]
  },
  {
   "cell_type": "code",
   "execution_count": 106,
   "metadata": {},
   "outputs": [
    {
     "name": "stdout",
     "output_type": "stream",
     "text": "Download ready.\n"
    }
   ],
   "source": [
    "download_url = \"https://raw.githubusercontent.com/fivethirtyeight/data/master/nba-elo/nbaallelo.csv\"\n",
    "target_csv_path = \"nba_all_elo.csv\"\n",
    "\n",
    "response = requests.get(download_url)\n",
    "response.raise_for_status()    # Check that the request was successful\n",
    "with open(target_csv_path, \"wb\") as f:\n",
    "    f.write(response.content)\n",
    "print(\"Download ready.\")"
   ]
  },
  {
   "cell_type": "code",
   "execution_count": 107,
   "metadata": {},
   "outputs": [],
   "source": [
    "nba = pd.read_csv(\"nba_all_elo.csv\")"
   ]
  },
  {
   "cell_type": "code",
   "execution_count": 108,
   "metadata": {},
   "outputs": [
    {
     "data": {
      "text/plain": "pandas.core.frame.DataFrame"
     },
     "execution_count": 108,
     "metadata": {},
     "output_type": "execute_result"
    }
   ],
   "source": [
    "type(nba)"
   ]
  },
  {
   "cell_type": "code",
   "execution_count": 109,
   "metadata": {},
   "outputs": [
    {
     "data": {
      "text/plain": "(126314, 23)"
     },
     "execution_count": 109,
     "metadata": {},
     "output_type": "execute_result"
    }
   ],
   "source": [
    "nba.shape # Größe der Matix"
   ]
  },
  {
   "cell_type": "code",
   "execution_count": 110,
   "metadata": {},
   "outputs": [],
   "source": [
    "pd.set_option(\"display.max.columns\", None)"
   ]
  },
  {
   "cell_type": "code",
   "execution_count": 111,
   "metadata": {},
   "outputs": [],
   "source": [
    "pd.set_option(\"display.precision\", 2)"
   ]
  },
  {
   "cell_type": "code",
   "execution_count": 112,
   "metadata": {},
   "outputs": [
    {
     "data": {
      "text/html": "<div>\n<style scoped>\n    .dataframe tbody tr th:only-of-type {\n        vertical-align: middle;\n    }\n\n    .dataframe tbody tr th {\n        vertical-align: top;\n    }\n\n    .dataframe thead th {\n        text-align: right;\n    }\n</style>\n<table border=\"1\" class=\"dataframe\">\n  <thead>\n    <tr style=\"text-align: right;\">\n      <th></th>\n      <th>gameorder</th>\n      <th>game_id</th>\n      <th>lg_id</th>\n      <th>_iscopy</th>\n      <th>year_id</th>\n      <th>date_game</th>\n      <th>seasongame</th>\n      <th>is_playoffs</th>\n      <th>team_id</th>\n      <th>fran_id</th>\n      <th>pts</th>\n      <th>elo_i</th>\n      <th>elo_n</th>\n      <th>win_equiv</th>\n      <th>opp_id</th>\n      <th>opp_fran</th>\n      <th>opp_pts</th>\n      <th>opp_elo_i</th>\n      <th>opp_elo_n</th>\n      <th>game_location</th>\n      <th>game_result</th>\n      <th>forecast</th>\n      <th>notes</th>\n    </tr>\n  </thead>\n  <tbody>\n    <tr>\n      <th>126309</th>\n      <td>63155</td>\n      <td>201506110CLE</td>\n      <td>NBA</td>\n      <td>0</td>\n      <td>2015</td>\n      <td>6/11/2015</td>\n      <td>100</td>\n      <td>1</td>\n      <td>CLE</td>\n      <td>Cavaliers</td>\n      <td>82</td>\n      <td>1723.41</td>\n      <td>1704.39</td>\n      <td>60.31</td>\n      <td>GSW</td>\n      <td>Warriors</td>\n      <td>103</td>\n      <td>1790.96</td>\n      <td>1809.98</td>\n      <td>H</td>\n      <td>L</td>\n      <td>0.55</td>\n      <td>NaN</td>\n    </tr>\n    <tr>\n      <th>126310</th>\n      <td>63156</td>\n      <td>201506140GSW</td>\n      <td>NBA</td>\n      <td>0</td>\n      <td>2015</td>\n      <td>6/14/2015</td>\n      <td>102</td>\n      <td>1</td>\n      <td>GSW</td>\n      <td>Warriors</td>\n      <td>104</td>\n      <td>1809.98</td>\n      <td>1813.63</td>\n      <td>68.01</td>\n      <td>CLE</td>\n      <td>Cavaliers</td>\n      <td>91</td>\n      <td>1704.39</td>\n      <td>1700.74</td>\n      <td>H</td>\n      <td>W</td>\n      <td>0.77</td>\n      <td>NaN</td>\n    </tr>\n    <tr>\n      <th>126311</th>\n      <td>63156</td>\n      <td>201506140GSW</td>\n      <td>NBA</td>\n      <td>1</td>\n      <td>2015</td>\n      <td>6/14/2015</td>\n      <td>101</td>\n      <td>1</td>\n      <td>CLE</td>\n      <td>Cavaliers</td>\n      <td>91</td>\n      <td>1704.39</td>\n      <td>1700.74</td>\n      <td>60.01</td>\n      <td>GSW</td>\n      <td>Warriors</td>\n      <td>104</td>\n      <td>1809.98</td>\n      <td>1813.63</td>\n      <td>A</td>\n      <td>L</td>\n      <td>0.23</td>\n      <td>NaN</td>\n    </tr>\n    <tr>\n      <th>126312</th>\n      <td>63157</td>\n      <td>201506170CLE</td>\n      <td>NBA</td>\n      <td>0</td>\n      <td>2015</td>\n      <td>6/16/2015</td>\n      <td>102</td>\n      <td>1</td>\n      <td>CLE</td>\n      <td>Cavaliers</td>\n      <td>97</td>\n      <td>1700.74</td>\n      <td>1692.09</td>\n      <td>59.29</td>\n      <td>GSW</td>\n      <td>Warriors</td>\n      <td>105</td>\n      <td>1813.63</td>\n      <td>1822.29</td>\n      <td>H</td>\n      <td>L</td>\n      <td>0.48</td>\n      <td>NaN</td>\n    </tr>\n    <tr>\n      <th>126313</th>\n      <td>63157</td>\n      <td>201506170CLE</td>\n      <td>NBA</td>\n      <td>1</td>\n      <td>2015</td>\n      <td>6/16/2015</td>\n      <td>103</td>\n      <td>1</td>\n      <td>GSW</td>\n      <td>Warriors</td>\n      <td>105</td>\n      <td>1813.63</td>\n      <td>1822.29</td>\n      <td>68.52</td>\n      <td>CLE</td>\n      <td>Cavaliers</td>\n      <td>97</td>\n      <td>1700.74</td>\n      <td>1692.09</td>\n      <td>A</td>\n      <td>W</td>\n      <td>0.52</td>\n      <td>NaN</td>\n    </tr>\n  </tbody>\n</table>\n</div>",
      "text/plain": "        gameorder       game_id lg_id  _iscopy  year_id  date_game  \\\n126309      63155  201506110CLE   NBA        0     2015  6/11/2015   \n126310      63156  201506140GSW   NBA        0     2015  6/14/2015   \n126311      63156  201506140GSW   NBA        1     2015  6/14/2015   \n126312      63157  201506170CLE   NBA        0     2015  6/16/2015   \n126313      63157  201506170CLE   NBA        1     2015  6/16/2015   \n\n        seasongame  is_playoffs team_id    fran_id  pts    elo_i    elo_n  \\\n126309         100            1     CLE  Cavaliers   82  1723.41  1704.39   \n126310         102            1     GSW   Warriors  104  1809.98  1813.63   \n126311         101            1     CLE  Cavaliers   91  1704.39  1700.74   \n126312         102            1     CLE  Cavaliers   97  1700.74  1692.09   \n126313         103            1     GSW   Warriors  105  1813.63  1822.29   \n\n        win_equiv opp_id   opp_fran  opp_pts  opp_elo_i  opp_elo_n  \\\n126309      60.31    GSW   Warriors      103    1790.96    1809.98   \n126310      68.01    CLE  Cavaliers       91    1704.39    1700.74   \n126311      60.01    GSW   Warriors      104    1809.98    1813.63   \n126312      59.29    GSW   Warriors      105    1813.63    1822.29   \n126313      68.52    CLE  Cavaliers       97    1700.74    1692.09   \n\n       game_location game_result  forecast notes  \n126309             H           L      0.55   NaN  \n126310             H           W      0.77   NaN  \n126311             A           L      0.23   NaN  \n126312             H           L      0.48   NaN  \n126313             A           W      0.52   NaN  "
     },
     "execution_count": 112,
     "metadata": {},
     "output_type": "execute_result"
    }
   ],
   "source": [
    "nba.tail()"
   ]
  },
  {
   "cell_type": "code",
   "execution_count": 113,
   "metadata": {},
   "outputs": [],
   "source": [
    "current_decade = nba[nba[\"year_id\"] > 2010] # hier bekommt man einen _neuen_ DataFrame _ohne_ .query "
   ]
  },
  {
   "cell_type": "code",
   "execution_count": 114,
   "metadata": {},
   "outputs": [
    {
     "data": {
      "text/html": "<div>\n<style scoped>\n    .dataframe tbody tr th:only-of-type {\n        vertical-align: middle;\n    }\n\n    .dataframe tbody tr th {\n        vertical-align: top;\n    }\n\n    .dataframe thead th {\n        text-align: right;\n    }\n</style>\n<table border=\"1\" class=\"dataframe\">\n  <thead>\n    <tr style=\"text-align: right;\">\n      <th></th>\n      <th>YEA</th>\n      <th>Year</th>\n      <th>PowerCode Code</th>\n      <th>Reference Period Code</th>\n      <th>Reference Period</th>\n      <th>Value</th>\n      <th>Flag Codes</th>\n      <th>Flags</th>\n    </tr>\n  </thead>\n  <tbody>\n    <tr>\n      <th>count</th>\n      <td>1543.00</td>\n      <td>1543.00</td>\n      <td>1543.0</td>\n      <td>0.0</td>\n      <td>0.0</td>\n      <td>1.54e+03</td>\n      <td>0.0</td>\n      <td>0.0</td>\n    </tr>\n    <tr>\n      <th>mean</th>\n      <td>2012.51</td>\n      <td>2012.51</td>\n      <td>6.0</td>\n      <td>NaN</td>\n      <td>NaN</td>\n      <td>1.37e+05</td>\n      <td>NaN</td>\n      <td>NaN</td>\n    </tr>\n    <tr>\n      <th>std</th>\n      <td>3.04</td>\n      <td>3.04</td>\n      <td>0.0</td>\n      <td>NaN</td>\n      <td>NaN</td>\n      <td>5.34e+05</td>\n      <td>NaN</td>\n      <td>NaN</td>\n    </tr>\n    <tr>\n      <th>min</th>\n      <td>2007.00</td>\n      <td>2007.00</td>\n      <td>6.0</td>\n      <td>NaN</td>\n      <td>NaN</td>\n      <td>8.46e-01</td>\n      <td>NaN</td>\n      <td>NaN</td>\n    </tr>\n    <tr>\n      <th>25%</th>\n      <td>2010.00</td>\n      <td>2010.00</td>\n      <td>6.0</td>\n      <td>NaN</td>\n      <td>NaN</td>\n      <td>2.57e+03</td>\n      <td>NaN</td>\n      <td>NaN</td>\n    </tr>\n    <tr>\n      <th>50%</th>\n      <td>2013.00</td>\n      <td>2013.00</td>\n      <td>6.0</td>\n      <td>NaN</td>\n      <td>NaN</td>\n      <td>1.13e+04</td>\n      <td>NaN</td>\n      <td>NaN</td>\n    </tr>\n    <tr>\n      <th>75%</th>\n      <td>2015.00</td>\n      <td>2015.00</td>\n      <td>6.0</td>\n      <td>NaN</td>\n      <td>NaN</td>\n      <td>4.03e+04</td>\n      <td>NaN</td>\n      <td>NaN</td>\n    </tr>\n    <tr>\n      <th>max</th>\n      <td>2017.00</td>\n      <td>2017.00</td>\n      <td>6.0</td>\n      <td>NaN</td>\n      <td>NaN</td>\n      <td>5.12e+06</td>\n      <td>NaN</td>\n      <td>NaN</td>\n    </tr>\n  </tbody>\n</table>\n</div>",
      "text/plain": "           YEA     Year  PowerCode Code  Reference Period Code  \\\ncount  1543.00  1543.00          1543.0                    0.0   \nmean   2012.51  2012.51             6.0                    NaN   \nstd       3.04     3.04             0.0                    NaN   \nmin    2007.00  2007.00             6.0                    NaN   \n25%    2010.00  2010.00             6.0                    NaN   \n50%    2013.00  2013.00             6.0                    NaN   \n75%    2015.00  2015.00             6.0                    NaN   \nmax    2017.00  2017.00             6.0                    NaN   \n\n       Reference Period     Value  Flag Codes  Flags  \ncount               0.0  1.54e+03         0.0    0.0  \nmean                NaN  1.37e+05         NaN    NaN  \nstd                 NaN  5.34e+05         NaN    NaN  \nmin                 NaN  8.46e-01         NaN    NaN  \n25%                 NaN  2.57e+03         NaN    NaN  \n50%                 NaN  1.13e+04         NaN    NaN  \n75%                 NaN  4.03e+04         NaN    NaN  \nmax                 NaN  5.12e+06         NaN    NaN  "
     },
     "execution_count": 114,
     "metadata": {},
     "output_type": "execute_result"
    }
   ],
   "source": [
    "nur_australia        = glob_ins_data[glob_ins_data[\"Country\"] == 'Australia']\n",
    "glob_ins_data.describe()\n",
    "#nur_australia.describe()"
   ]
  },
  {
   "cell_type": "code",
   "execution_count": 115,
   "metadata": {},
   "outputs": [
    {
     "data": {
      "text/html": "<div>\n<style scoped>\n    .dataframe tbody tr th:only-of-type {\n        vertical-align: middle;\n    }\n\n    .dataframe tbody tr th {\n        vertical-align: top;\n    }\n\n    .dataframe thead th {\n        text-align: right;\n    }\n</style>\n<table border=\"1\" class=\"dataframe\">\n  <thead>\n    <tr style=\"text-align: right;\">\n      <th></th>\n      <th>gameorder</th>\n      <th>game_id</th>\n      <th>lg_id</th>\n      <th>_iscopy</th>\n      <th>year_id</th>\n      <th>date_game</th>\n      <th>seasongame</th>\n      <th>is_playoffs</th>\n      <th>team_id</th>\n      <th>fran_id</th>\n      <th>pts</th>\n      <th>elo_i</th>\n      <th>elo_n</th>\n      <th>win_equiv</th>\n      <th>opp_id</th>\n      <th>opp_fran</th>\n      <th>opp_pts</th>\n      <th>opp_elo_i</th>\n      <th>opp_elo_n</th>\n      <th>game_location</th>\n      <th>game_result</th>\n      <th>forecast</th>\n      <th>notes</th>\n    </tr>\n  </thead>\n  <tbody>\n    <tr>\n      <th>113656</th>\n      <td>56829</td>\n      <td>201010260BOS</td>\n      <td>NBA</td>\n      <td>1</td>\n      <td>2011</td>\n      <td>10/26/2010</td>\n      <td>1</td>\n      <td>0</td>\n      <td>MIA</td>\n      <td>Heat</td>\n      <td>80</td>\n      <td>1547.36</td>\n      <td>1543.16</td>\n      <td>45.14</td>\n      <td>BOS</td>\n      <td>Celtics</td>\n      <td>88</td>\n      <td>1625.10</td>\n      <td>1629.30</td>\n      <td>A</td>\n      <td>L</td>\n      <td>0.26</td>\n      <td>NaN</td>\n    </tr>\n    <tr>\n      <th>113657</th>\n      <td>56829</td>\n      <td>201010260BOS</td>\n      <td>NBA</td>\n      <td>0</td>\n      <td>2011</td>\n      <td>10/26/2010</td>\n      <td>1</td>\n      <td>0</td>\n      <td>BOS</td>\n      <td>Celtics</td>\n      <td>88</td>\n      <td>1625.10</td>\n      <td>1629.30</td>\n      <td>53.75</td>\n      <td>MIA</td>\n      <td>Heat</td>\n      <td>80</td>\n      <td>1547.36</td>\n      <td>1543.16</td>\n      <td>H</td>\n      <td>W</td>\n      <td>0.74</td>\n      <td>NaN</td>\n    </tr>\n    <tr>\n      <th>113658</th>\n      <td>56830</td>\n      <td>201010260LAL</td>\n      <td>NBA</td>\n      <td>1</td>\n      <td>2011</td>\n      <td>10/26/2010</td>\n      <td>1</td>\n      <td>0</td>\n      <td>HOU</td>\n      <td>Rockets</td>\n      <td>110</td>\n      <td>1504.20</td>\n      <td>1502.60</td>\n      <td>40.90</td>\n      <td>LAL</td>\n      <td>Lakers</td>\n      <td>112</td>\n      <td>1647.60</td>\n      <td>1649.20</td>\n      <td>A</td>\n      <td>L</td>\n      <td>0.20</td>\n      <td>NaN</td>\n    </tr>\n    <tr>\n      <th>113659</th>\n      <td>56830</td>\n      <td>201010260LAL</td>\n      <td>NBA</td>\n      <td>0</td>\n      <td>2011</td>\n      <td>10/26/2010</td>\n      <td>1</td>\n      <td>0</td>\n      <td>LAL</td>\n      <td>Lakers</td>\n      <td>112</td>\n      <td>1647.60</td>\n      <td>1649.20</td>\n      <td>55.61</td>\n      <td>HOU</td>\n      <td>Rockets</td>\n      <td>110</td>\n      <td>1504.20</td>\n      <td>1502.60</td>\n      <td>H</td>\n      <td>W</td>\n      <td>0.80</td>\n      <td>NaN</td>\n    </tr>\n    <tr>\n      <th>113660</th>\n      <td>56831</td>\n      <td>201010260POR</td>\n      <td>NBA</td>\n      <td>1</td>\n      <td>2011</td>\n      <td>10/26/2010</td>\n      <td>1</td>\n      <td>0</td>\n      <td>PHO</td>\n      <td>Suns</td>\n      <td>92</td>\n      <td>1643.02</td>\n      <td>1630.62</td>\n      <td>53.88</td>\n      <td>POR</td>\n      <td>Trailblazers</td>\n      <td>106</td>\n      <td>1552.81</td>\n      <td>1565.22</td>\n      <td>A</td>\n      <td>L</td>\n      <td>0.49</td>\n      <td>NaN</td>\n    </tr>\n    <tr>\n      <th>...</th>\n      <td>...</td>\n      <td>...</td>\n      <td>...</td>\n      <td>...</td>\n      <td>...</td>\n      <td>...</td>\n      <td>...</td>\n      <td>...</td>\n      <td>...</td>\n      <td>...</td>\n      <td>...</td>\n      <td>...</td>\n      <td>...</td>\n      <td>...</td>\n      <td>...</td>\n      <td>...</td>\n      <td>...</td>\n      <td>...</td>\n      <td>...</td>\n      <td>...</td>\n      <td>...</td>\n      <td>...</td>\n      <td>...</td>\n    </tr>\n    <tr>\n      <th>126309</th>\n      <td>63155</td>\n      <td>201506110CLE</td>\n      <td>NBA</td>\n      <td>0</td>\n      <td>2015</td>\n      <td>6/11/2015</td>\n      <td>100</td>\n      <td>1</td>\n      <td>CLE</td>\n      <td>Cavaliers</td>\n      <td>82</td>\n      <td>1723.41</td>\n      <td>1704.39</td>\n      <td>60.31</td>\n      <td>GSW</td>\n      <td>Warriors</td>\n      <td>103</td>\n      <td>1790.96</td>\n      <td>1809.98</td>\n      <td>H</td>\n      <td>L</td>\n      <td>0.55</td>\n      <td>NaN</td>\n    </tr>\n    <tr>\n      <th>126310</th>\n      <td>63156</td>\n      <td>201506140GSW</td>\n      <td>NBA</td>\n      <td>0</td>\n      <td>2015</td>\n      <td>6/14/2015</td>\n      <td>102</td>\n      <td>1</td>\n      <td>GSW</td>\n      <td>Warriors</td>\n      <td>104</td>\n      <td>1809.98</td>\n      <td>1813.63</td>\n      <td>68.01</td>\n      <td>CLE</td>\n      <td>Cavaliers</td>\n      <td>91</td>\n      <td>1704.39</td>\n      <td>1700.74</td>\n      <td>H</td>\n      <td>W</td>\n      <td>0.77</td>\n      <td>NaN</td>\n    </tr>\n    <tr>\n      <th>126311</th>\n      <td>63156</td>\n      <td>201506140GSW</td>\n      <td>NBA</td>\n      <td>1</td>\n      <td>2015</td>\n      <td>6/14/2015</td>\n      <td>101</td>\n      <td>1</td>\n      <td>CLE</td>\n      <td>Cavaliers</td>\n      <td>91</td>\n      <td>1704.39</td>\n      <td>1700.74</td>\n      <td>60.01</td>\n      <td>GSW</td>\n      <td>Warriors</td>\n      <td>104</td>\n      <td>1809.98</td>\n      <td>1813.63</td>\n      <td>A</td>\n      <td>L</td>\n      <td>0.23</td>\n      <td>NaN</td>\n    </tr>\n    <tr>\n      <th>126312</th>\n      <td>63157</td>\n      <td>201506170CLE</td>\n      <td>NBA</td>\n      <td>0</td>\n      <td>2015</td>\n      <td>6/16/2015</td>\n      <td>102</td>\n      <td>1</td>\n      <td>CLE</td>\n      <td>Cavaliers</td>\n      <td>97</td>\n      <td>1700.74</td>\n      <td>1692.09</td>\n      <td>59.29</td>\n      <td>GSW</td>\n      <td>Warriors</td>\n      <td>105</td>\n      <td>1813.63</td>\n      <td>1822.29</td>\n      <td>H</td>\n      <td>L</td>\n      <td>0.48</td>\n      <td>NaN</td>\n    </tr>\n    <tr>\n      <th>126313</th>\n      <td>63157</td>\n      <td>201506170CLE</td>\n      <td>NBA</td>\n      <td>1</td>\n      <td>2015</td>\n      <td>6/16/2015</td>\n      <td>103</td>\n      <td>1</td>\n      <td>GSW</td>\n      <td>Warriors</td>\n      <td>105</td>\n      <td>1813.63</td>\n      <td>1822.29</td>\n      <td>68.52</td>\n      <td>CLE</td>\n      <td>Cavaliers</td>\n      <td>97</td>\n      <td>1700.74</td>\n      <td>1692.09</td>\n      <td>A</td>\n      <td>W</td>\n      <td>0.52</td>\n      <td>NaN</td>\n    </tr>\n  </tbody>\n</table>\n<p>12658 rows × 23 columns</p>\n</div>",
      "text/plain": "        gameorder       game_id lg_id  _iscopy  year_id   date_game  \\\n113656      56829  201010260BOS   NBA        1     2011  10/26/2010   \n113657      56829  201010260BOS   NBA        0     2011  10/26/2010   \n113658      56830  201010260LAL   NBA        1     2011  10/26/2010   \n113659      56830  201010260LAL   NBA        0     2011  10/26/2010   \n113660      56831  201010260POR   NBA        1     2011  10/26/2010   \n...           ...           ...   ...      ...      ...         ...   \n126309      63155  201506110CLE   NBA        0     2015   6/11/2015   \n126310      63156  201506140GSW   NBA        0     2015   6/14/2015   \n126311      63156  201506140GSW   NBA        1     2015   6/14/2015   \n126312      63157  201506170CLE   NBA        0     2015   6/16/2015   \n126313      63157  201506170CLE   NBA        1     2015   6/16/2015   \n\n        seasongame  is_playoffs team_id    fran_id  pts    elo_i    elo_n  \\\n113656           1            0     MIA       Heat   80  1547.36  1543.16   \n113657           1            0     BOS    Celtics   88  1625.10  1629.30   \n113658           1            0     HOU    Rockets  110  1504.20  1502.60   \n113659           1            0     LAL     Lakers  112  1647.60  1649.20   \n113660           1            0     PHO       Suns   92  1643.02  1630.62   \n...            ...          ...     ...        ...  ...      ...      ...   \n126309         100            1     CLE  Cavaliers   82  1723.41  1704.39   \n126310         102            1     GSW   Warriors  104  1809.98  1813.63   \n126311         101            1     CLE  Cavaliers   91  1704.39  1700.74   \n126312         102            1     CLE  Cavaliers   97  1700.74  1692.09   \n126313         103            1     GSW   Warriors  105  1813.63  1822.29   \n\n        win_equiv opp_id      opp_fran  opp_pts  opp_elo_i  opp_elo_n  \\\n113656      45.14    BOS       Celtics       88    1625.10    1629.30   \n113657      53.75    MIA          Heat       80    1547.36    1543.16   \n113658      40.90    LAL        Lakers      112    1647.60    1649.20   \n113659      55.61    HOU       Rockets      110    1504.20    1502.60   \n113660      53.88    POR  Trailblazers      106    1552.81    1565.22   \n...           ...    ...           ...      ...        ...        ...   \n126309      60.31    GSW      Warriors      103    1790.96    1809.98   \n126310      68.01    CLE     Cavaliers       91    1704.39    1700.74   \n126311      60.01    GSW      Warriors      104    1809.98    1813.63   \n126312      59.29    GSW      Warriors      105    1813.63    1822.29   \n126313      68.52    CLE     Cavaliers       97    1700.74    1692.09   \n\n       game_location game_result  forecast notes  \n113656             A           L      0.26   NaN  \n113657             H           W      0.74   NaN  \n113658             A           L      0.20   NaN  \n113659             H           W      0.80   NaN  \n113660             A           L      0.49   NaN  \n...              ...         ...       ...   ...  \n126309             H           L      0.55   NaN  \n126310             H           W      0.77   NaN  \n126311             A           L      0.23   NaN  \n126312             H           L      0.48   NaN  \n126313             A           W      0.52   NaN  \n\n[12658 rows x 23 columns]"
     },
     "execution_count": 115,
     "metadata": {},
     "output_type": "execute_result"
    }
   ],
   "source": [
    "current_decade # "
   ]
  },
  {
   "cell_type": "code",
   "execution_count": 1,
   "metadata": {},
   "outputs": [],
   "source": [
    "run Kap_01_functions.py"
   ]
  },
  {
   "cell_type": "code",
   "execution_count": null,
   "metadata": {},
   "outputs": [],
   "source": []
  }
 ],
 "metadata": {
  "kernelspec": {
   "display_name": "Python 3",
   "language": "python",
   "name": "python3"
  },
  "toc": {
   "base_numbering": 1,
   "nav_menu": {},
   "number_sections": true,
   "sideBar": true,
   "skip_h1_title": false,
   "title_cell": "Table of Contents",
   "title_sidebar": "Contents",
   "toc_cell": true,
   "toc_position": {},
   "toc_section_display": true,
   "toc_window_display": false
  },
  "varInspector": {
   "cols": {
    "lenName": 16,
    "lenType": 16,
    "lenVar": 40
   },
   "kernels_config": {
    "python": {
     "delete_cmd_postfix": "",
     "delete_cmd_prefix": "del ",
     "library": "var_list.py",
     "varRefreshCmd": "print(var_dic_list())"
    },
    "r": {
     "delete_cmd_postfix": ") ",
     "delete_cmd_prefix": "rm(",
     "library": "var_list.r",
     "varRefreshCmd": "cat(var_dic_list()) "
    }
   },
   "types_to_exclude": [
    "module",
    "function",
    "builtin_function_or_method",
    "instance",
    "_Feature"
   ],
   "window_display": false
  }
 },
 "nbformat": 4,
 "nbformat_minor": 2
}