{
 "metadata": {
  "language_info": {
   "codemirror_mode": {
    "name": "ipython",
    "version": 3
   },
   "file_extension": ".py",
   "mimetype": "text/x-python",
   "name": "python",
   "nbconvert_exporter": "python",
   "pygments_lexer": "ipython3",
   "version": "3.7.6-final"
  },
  "orig_nbformat": 2,
  "kernelspec": {
   "name": "Python 3.7.6 64-bit ('base': conda)",
   "display_name": "Python 3.7.6 64-bit ('base': conda)",
   "metadata": {
    "interpreter": {
     "hash": "6dccf3ad240028fcb4cbf464a397f6d4036d52d4f8348f4c2a1409b9b1377237"
    }
   }
  }
 },
 "nbformat": 4,
 "nbformat_minor": 2,
 "cells": [
  {
   "cell_type": "code",
   "execution_count": 1,
   "metadata": {},
   "outputs": [],
   "source": [
    "import numpy as np"
   ]
  },
  {
   "cell_type": "code",
   "execution_count": 6,
   "metadata": {},
   "outputs": [],
   "source": [
    "corporate_struct = np.dtype({'names':('u_name', 'income', 'location'), 'formats':((np.str_, 10), np.float32, int)})"
   ]
  },
  {
   "source": [
    "\n",
    "Character\tDescription\tExample\n",
    "'b'\tByte\tnp.dtype('b')\n",
    "'i'\tSigned integer\tnp.dtype('i4') == np.int32\n",
    "'u'\tUnsigned integer\tnp.dtype('u1') == np.uint8\n",
    "'f'\tFloating point\tnp.dtype('f8') == np.int64\n",
    "'c'\tComplex floating point\tnp.dtype('c16') == np.complex128\n",
    "'S', 'a'\tString\tnp.dtype('S5')\n",
    "'U'\tUnicode string\tnp.dtype('U') == np.str_\n",
    "'V'\tRaw data (void)\tnp.dtype('V') == np.void"
   ],
   "cell_type": "markdown",
   "metadata": {}
  },
  {
   "cell_type": "code",
   "execution_count": 7,
   "metadata": {},
   "outputs": [],
   "source": [
    "ins_data = np.zeros(3, dtype = corporate_struct)"
   ]
  },
  {
   "cell_type": "code",
   "execution_count": 8,
   "metadata": {},
   "outputs": [
    {
     "output_type": "execute_result",
     "data": {
      "text/plain": "array([('', 0., 0), ('', 0., 0), ('', 0., 0)],\n      dtype=[('u_name', '<U10'), ('income', '<f4'), ('location', '<i4')])"
     },
     "metadata": {},
     "execution_count": 8
    }
   ],
   "source": [
    "ins_data"
   ]
  },
  {
   "cell_type": "code",
   "execution_count": 9,
   "metadata": {},
   "outputs": [
    {
     "output_type": "execute_result",
     "data": {
      "text/plain": "array([('', 0., 0), ('', 0., 0), ('', 0., 0)],\n      dtype=[('u_name', '<U10'), ('income', '<f4'), ('location', '<i4')])"
     },
     "metadata": {},
     "execution_count": 9
    }
   ],
   "source": [
    "ins_data.view()"
   ]
  },
  {
   "source": [
    "https://jakevdp.github.io/PythonDataScienceHandbook/02.09-structured-data-numpy.html\n"
   ],
   "cell_type": "markdown",
   "metadata": {}
  }
 ]
}